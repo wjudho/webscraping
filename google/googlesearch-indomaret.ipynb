{
 "cells": [
  {
   "cell_type": "markdown",
   "metadata": {},
   "source": [
    "# **INDOMARET LOCAL MAP WEB SCRAPING - USING SERPAPI APIs**"
   ]
  },
  {
   "cell_type": "code",
   "execution_count": 78,
   "metadata": {},
   "outputs": [],
   "source": [
    "from serpapi import GoogleSearch\n",
    "import pandas as pd"
   ]
  },
  {
   "cell_type": "code",
   "execution_count": 79,
   "metadata": {},
   "outputs": [
    {
     "name": "stdout",
     "output_type": "stream",
     "text": [
      "https://serpapi.com/search\n"
     ]
    },
    {
     "data": {
      "text/plain": [
       "{'position': 1,\n",
       " 'title': 'Indomaret Kusuma Bangsa',\n",
       " 'place_id': '15249179271395873108',\n",
       " 'lsig': 'AB86z5XOb36AjL3RwtVTiFWxNfj2',\n",
       " 'place_id_search': 'https://serpapi.com/search.json?device=desktop&engine=google&google_domain=google.com&location=Surabaya&lsig=AB86z5XOb36AjL3RwtVTiFWxNfj2&ludocid=15249179271395873108&num=40&q=indomaret&tbm=lcl',\n",
       " 'address': 'Jl. Kusuma Bangsa No.49',\n",
       " 'phone': '+62 21 1500580',\n",
       " 'hours': 'Open 24 hours',\n",
       " 'gps_coordinates': {'latitude': -7.252653899999999, 'longitude': 112.749444},\n",
       " 'service_options': {'in_store_shopping': True,\n",
       "  'in_store_pickup': True,\n",
       "  'delivery': True},\n",
       " 'links': {'website': 'http://indomaret.co.id/',\n",
       "  'directions': 'https://www.google.com/maps/dir//Indomaret+Kusuma+Bangsa,+Jl.+Kusuma+Bangsa+No.49,+Ketabang,+Genteng,+Surabaya+City,+East+Java+60272,+Indonesia/data=!4m6!4m5!1m1!4e2!1m2!1m1!1s0x2dd7f96554739697:0xd39ff7c0f3cd1154?sa=X'}}"
      ]
     },
     "execution_count": 79,
     "metadata": {},
     "output_type": "execute_result"
    }
   ],
   "source": [
    "params = {\n",
    "    \"q\": \"indomaret\",\n",
    "    \"location\": \"Surabaya\",\n",
    "    \"tbm\": \"lcl\",\n",
    "    \"num\": 40,\n",
    "    \"api_key\": \"xxxxx\"\n",
    "}\n",
    "\n",
    "search = GoogleSearch(params)\n",
    "results = search.get_dict()\n",
    "local_results = results['local_results']\n",
    "local_results[0]"
   ]
  },
  {
   "cell_type": "markdown",
   "metadata": {},
   "source": [
    "### **Let's Break it Down, Where is The Data**"
   ]
  },
  {
   "cell_type": "code",
   "execution_count": 80,
   "metadata": {},
   "outputs": [
    {
     "name": "stdout",
     "output_type": "stream",
     "text": [
      "20\n"
     ]
    },
    {
     "data": {
      "text/plain": [
       "{'position': 1,\n",
       " 'title': 'Indomaret Kusuma Bangsa',\n",
       " 'place_id': '15249179271395873108',\n",
       " 'lsig': 'AB86z5XOb36AjL3RwtVTiFWxNfj2',\n",
       " 'place_id_search': 'https://serpapi.com/search.json?device=desktop&engine=google&google_domain=google.com&location=Surabaya&lsig=AB86z5XOb36AjL3RwtVTiFWxNfj2&ludocid=15249179271395873108&num=40&q=indomaret&tbm=lcl',\n",
       " 'address': 'Jl. Kusuma Bangsa No.49',\n",
       " 'phone': '+62 21 1500580',\n",
       " 'hours': 'Open 24 hours',\n",
       " 'gps_coordinates': {'latitude': -7.252653899999999, 'longitude': 112.749444},\n",
       " 'service_options': {'in_store_shopping': True,\n",
       "  'in_store_pickup': True,\n",
       "  'delivery': True},\n",
       " 'links': {'website': 'http://indomaret.co.id/',\n",
       "  'directions': 'https://www.google.com/maps/dir//Indomaret+Kusuma+Bangsa,+Jl.+Kusuma+Bangsa+No.49,+Ketabang,+Genteng,+Surabaya+City,+East+Java+60272,+Indonesia/data=!4m6!4m5!1m1!4e2!1m2!1m1!1s0x2dd7f96554739697:0xd39ff7c0f3cd1154?sa=X'}}"
      ]
     },
     "execution_count": 80,
     "metadata": {},
     "output_type": "execute_result"
    }
   ],
   "source": [
    "print(len(local_results))\n",
    "local_results[0]"
   ]
  },
  {
   "cell_type": "code",
   "execution_count": 83,
   "metadata": {},
   "outputs": [],
   "source": [
    "title = local_results[0]['title']\n",
    "place_id = local_results[0]['place_id']\n",
    "hours = local_results[0]['hours']\n",
    "latitude = local_results[0]['gps_coordinates']['latitude'] \n",
    "longitude = local_results[0]['gps_coordinates']['longitude']\n",
    "address = local_results[0]['address']\n",
    "directions = local_results[0]['links']['directions']\n",
    "\n",
    "df = pd.DataFrame(columns=['title', 'place_id', 'hours', 'latitude', 'longitude', 'address', 'directions'])"
   ]
  },
  {
   "cell_type": "code",
   "execution_count": 84,
   "metadata": {},
   "outputs": [
    {
     "data": {
      "text/html": [
       "<div>\n",
       "<style scoped>\n",
       "    .dataframe tbody tr th:only-of-type {\n",
       "        vertical-align: middle;\n",
       "    }\n",
       "\n",
       "    .dataframe tbody tr th {\n",
       "        vertical-align: top;\n",
       "    }\n",
       "\n",
       "    .dataframe thead th {\n",
       "        text-align: right;\n",
       "    }\n",
       "</style>\n",
       "<table border=\"1\" class=\"dataframe\">\n",
       "  <thead>\n",
       "    <tr style=\"text-align: right;\">\n",
       "      <th></th>\n",
       "      <th>title</th>\n",
       "      <th>place_id</th>\n",
       "      <th>hours</th>\n",
       "      <th>latitude</th>\n",
       "      <th>longitude</th>\n",
       "      <th>address</th>\n",
       "      <th>directions</th>\n",
       "    </tr>\n",
       "  </thead>\n",
       "  <tbody>\n",
       "    <tr>\n",
       "      <th>0</th>\n",
       "      <td>Indomaret Kusuma Bangsa</td>\n",
       "      <td>15249179271395873108</td>\n",
       "      <td>Open 24 hours</td>\n",
       "      <td>-7.252654</td>\n",
       "      <td>112.749444</td>\n",
       "      <td>Jl. Kusuma Bangsa No.49</td>\n",
       "      <td>https://www.google.com/maps/dir//Indomaret+Kus...</td>\n",
       "    </tr>\n",
       "    <tr>\n",
       "      <th>1</th>\n",
       "      <td>Indomaret</td>\n",
       "      <td>5398397139626411963</td>\n",
       "      <td>Open ⋅ Closes 10PM</td>\n",
       "      <td>-7.256999</td>\n",
       "      <td>112.754238</td>\n",
       "      <td>Jl. Kusuma Bangsa No.49</td>\n",
       "      <td>https://www.google.com/maps/dir//Indomaret,+Jl...</td>\n",
       "    </tr>\n",
       "    <tr>\n",
       "      <th>2</th>\n",
       "      <td>Indomaret Tambaksari</td>\n",
       "      <td>11573068220092361680</td>\n",
       "      <td>Open ⋅ Closes 10PM</td>\n",
       "      <td>-7.252976</td>\n",
       "      <td>112.754808</td>\n",
       "      <td>Jl. Kusuma Bangsa No.49</td>\n",
       "      <td>https://www.google.com/maps/dir//Indomaret+Tam...</td>\n",
       "    </tr>\n",
       "    <tr>\n",
       "      <th>3</th>\n",
       "      <td>Indomaret</td>\n",
       "      <td>14469354397490257712</td>\n",
       "      <td>Open ⋅ Closes 10:30PM</td>\n",
       "      <td>-7.260044</td>\n",
       "      <td>112.744225</td>\n",
       "      <td>Jl. Kusuma Bangsa No.49</td>\n",
       "      <td>https://www.google.com/maps/dir//Indomaret,+Jl...</td>\n",
       "    </tr>\n",
       "    <tr>\n",
       "      <th>4</th>\n",
       "      <td>Indomaret Gubeng Airlangga II</td>\n",
       "      <td>5585660869753509895</td>\n",
       "      <td>Open ⋅ Closes 10PM</td>\n",
       "      <td>-7.272308</td>\n",
       "      <td>112.756124</td>\n",
       "      <td>Jl. Kusuma Bangsa No.49</td>\n",
       "      <td>https://www.google.com/maps/dir//Indomaret+Gub...</td>\n",
       "    </tr>\n",
       "  </tbody>\n",
       "</table>\n",
       "</div>"
      ],
      "text/plain": [
       "                           title              place_id                  hours  \\\n",
       "0        Indomaret Kusuma Bangsa  15249179271395873108          Open 24 hours   \n",
       "1                      Indomaret   5398397139626411963     Open ⋅ Closes 10PM   \n",
       "2           Indomaret Tambaksari  11573068220092361680     Open ⋅ Closes 10PM   \n",
       "3                      Indomaret  14469354397490257712  Open ⋅ Closes 10:30PM   \n",
       "4  Indomaret Gubeng Airlangga II   5585660869753509895     Open ⋅ Closes 10PM   \n",
       "\n",
       "   latitude   longitude                  address  \\\n",
       "0 -7.252654  112.749444  Jl. Kusuma Bangsa No.49   \n",
       "1 -7.256999  112.754238  Jl. Kusuma Bangsa No.49   \n",
       "2 -7.252976  112.754808  Jl. Kusuma Bangsa No.49   \n",
       "3 -7.260044  112.744225  Jl. Kusuma Bangsa No.49   \n",
       "4 -7.272308  112.756124  Jl. Kusuma Bangsa No.49   \n",
       "\n",
       "                                          directions  \n",
       "0  https://www.google.com/maps/dir//Indomaret+Kus...  \n",
       "1  https://www.google.com/maps/dir//Indomaret,+Jl...  \n",
       "2  https://www.google.com/maps/dir//Indomaret+Tam...  \n",
       "3  https://www.google.com/maps/dir//Indomaret,+Jl...  \n",
       "4  https://www.google.com/maps/dir//Indomaret+Gub...  "
      ]
     },
     "execution_count": 84,
     "metadata": {},
     "output_type": "execute_result"
    }
   ],
   "source": [
    "for i in local_results:\n",
    "    title = i['title']\n",
    "    place_id = i['place_id']\n",
    "    #address = i['address']\n",
    "    hours = i['hours']\n",
    "    latitude = i['gps_coordinates']['latitude'] \n",
    "    longitude = i['gps_coordinates']['longitude']\n",
    "    directions = i['links']['directions']\n",
    "\n",
    "    df = pd.concat([df, pd.DataFrame.from_records([{\n",
    "                        'title':title,'place_id':place_id,'hours':hours,\n",
    "                        'latitude':latitude,'longitude':longitude,\n",
    "                        'address':address,'directions':directions}])],ignore_index=True)\n",
    "df.head()"
   ]
  },
  {
   "cell_type": "code",
   "execution_count": 85,
   "metadata": {},
   "outputs": [],
   "source": [
    "# save to csv\n",
    "df.to_csv(r'C:\\Users\\wis\\Documents\\GitHub\\webscraping\\google\\indomaretlocation.csv', index=False)"
   ]
  }
 ],
 "metadata": {
  "kernelspec": {
   "display_name": "Python 3.9.7 ('condawind')",
   "language": "python",
   "name": "python3"
  },
  "language_info": {
   "codemirror_mode": {
    "name": "ipython",
    "version": 3
   },
   "file_extension": ".py",
   "mimetype": "text/x-python",
   "name": "python",
   "nbconvert_exporter": "python",
   "pygments_lexer": "ipython3",
   "version": "3.9.7"
  },
  "orig_nbformat": 4,
  "vscode": {
   "interpreter": {
    "hash": "8e3802b27887ce9c9a399d18b9e88e87d3bbd2cb82bdf3ac49206f060623ca27"
   }
  }
 },
 "nbformat": 4,
 "nbformat_minor": 2
}
