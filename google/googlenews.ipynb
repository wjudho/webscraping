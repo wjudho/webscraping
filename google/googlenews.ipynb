{
 "cells": [
  {
   "cell_type": "markdown",
   "id": "31025819",
   "metadata": {},
   "source": [
    "# **GOOGLE SEARCH WEB SCRAPING - USING SERPAPI APIs**"
   ]
  },
  {
   "cell_type": "code",
   "execution_count": 17,
   "id": "9d7fef69-3d15-47e4-8b83-067bfebe066f",
   "metadata": {},
   "outputs": [],
   "source": [
    "# use this: `pip install google-search-results`\n",
    "from serpapi import GoogleSearch\n",
    "import pandas as pd"
   ]
  },
  {
   "cell_type": "markdown",
   "id": "ab9d91a1",
   "metadata": {},
   "source": [
    "**References:**<br>\n",
    "[what to put in params](https://serpapi.com/search-api)<br>\n",
    "[example](https://serpapi.com/news-results)<br>\n",
    "[it's free, you get 100 search per month](https://serpapi.com/pricing)"
   ]
  },
  {
   "cell_type": "code",
   "execution_count": 27,
   "id": "83e134d7-9d07-4ce2-9db4-c92217e8cdf7",
   "metadata": {},
   "outputs": [
    {
     "name": "stdout",
     "output_type": "stream",
     "text": [
      "https://serpapi.com/search\n"
     ]
    },
    {
     "data": {
      "text/plain": [
       "{'position': 1,\n",
       " 'link': 'https://www.cnbcindonesia.com/news/20220709111823-4-354240/mantan-menkeu-inggris-maju-mau-gantikan-boris-johnson',\n",
       " 'title': 'Mantan Menkeu Inggris Maju Mau Gantikan Boris Johnson',\n",
       " 'source': 'CNBC Indonesia',\n",
       " 'date': '7 jam lalu',\n",
       " 'snippet': 'Jakarta, CNBC Indonesia - Mantan menteri keuangan Inggris Rishi Sunak \\nmenawarkan dirinya menjadi Perdana Menteri (PM) Inggris yang baru,...',\n",
       " 'thumbnail': 'https://serpapi.com/searches/62c971553c3fb2b80626fbc4/images/6b39810613d88666c46798f031e4d6dd5265d80839ee9cff1bdea9f0bd048e29.jpeg'}"
      ]
     },
     "execution_count": 27,
     "metadata": {},
     "output_type": "execute_result"
    }
   ],
   "source": [
    "\n",
    "params = {\n",
    "    \"q\": \"cnbcindonesia\",\n",
    "    \"hl\": \"id\",\n",
    "    \"tbm\": \"nws\",\n",
    "    \"num\": 20,\n",
    "    \"Location\": \"Indonesia\",\n",
    "    \"api_key\": \"xxxxxx\"\n",
    "}\n",
    "\n",
    "search = GoogleSearch(params)\n",
    "results = search.get_dict()\n",
    "news_results = results[\"news_results\"]\n",
    "\n",
    "# let's show just one news only\n",
    "news_results[0]"
   ]
  },
  {
   "cell_type": "markdown",
   "id": "1ec656cb",
   "metadata": {},
   "source": [
    "### **Let's Break it Down, Where is The Data**"
   ]
  },
  {
   "cell_type": "code",
   "execution_count": 28,
   "id": "886904c7",
   "metadata": {},
   "outputs": [
    {
     "name": "stdout",
     "output_type": "stream",
     "text": [
      "20\n"
     ]
    },
    {
     "data": {
      "text/plain": [
       "dict_keys(['position', 'link', 'title', 'source', 'date', 'snippet', 'thumbnail'])"
      ]
     },
     "execution_count": 28,
     "metadata": {},
     "output_type": "execute_result"
    }
   ],
   "source": [
    "# fortunately everything is straight forward\n",
    "print(len(news_results))\n",
    "news_results[0].keys()"
   ]
  },
  {
   "cell_type": "markdown",
   "id": "e64d24f1",
   "metadata": {},
   "source": [
    "### **Let's Grab The Data**"
   ]
  },
  {
   "cell_type": "code",
   "execution_count": 29,
   "id": "1bbef656",
   "metadata": {},
   "outputs": [],
   "source": [
    "title = news_results[0]['title']\n",
    "source = news_results[0]['source']\n",
    "date = news_results[0]['date']\n",
    "link = news_results[0]['link']\n",
    "\n",
    "# let's create empty DataFrame to put our data later\n",
    "df = pd.DataFrame(columns=['title', 'source', 'date', 'link'])"
   ]
  },
  {
   "cell_type": "markdown",
   "id": "d00f3af7",
   "metadata": {},
   "source": [
    "### **Let's Grab The Everything Using Iteration**"
   ]
  },
  {
   "cell_type": "code",
   "execution_count": 30,
   "metadata": {},
   "outputs": [
    {
     "data": {
      "text/html": [
       "<div>\n",
       "<style scoped>\n",
       "    .dataframe tbody tr th:only-of-type {\n",
       "        vertical-align: middle;\n",
       "    }\n",
       "\n",
       "    .dataframe tbody tr th {\n",
       "        vertical-align: top;\n",
       "    }\n",
       "\n",
       "    .dataframe thead th {\n",
       "        text-align: right;\n",
       "    }\n",
       "</style>\n",
       "<table border=\"1\" class=\"dataframe\">\n",
       "  <thead>\n",
       "    <tr style=\"text-align: right;\">\n",
       "      <th></th>\n",
       "      <th>title</th>\n",
       "      <th>source</th>\n",
       "      <th>date</th>\n",
       "      <th>link</th>\n",
       "    </tr>\n",
       "  </thead>\n",
       "  <tbody>\n",
       "    <tr>\n",
       "      <th>0</th>\n",
       "      <td>Mantan Menkeu Inggris Maju Mau Gantikan Boris ...</td>\n",
       "      <td>CNBC Indonesia</td>\n",
       "      <td>7 jam lalu</td>\n",
       "      <td>https://www.cnbcindonesia.com/news/20220709111...</td>\n",
       "    </tr>\n",
       "    <tr>\n",
       "      <th>1</th>\n",
       "      <td>Ada 45 Emiten Terbitkan Obligasi dan Sukuk Sen...</td>\n",
       "      <td>CNBC Indonesia</td>\n",
       "      <td>9 jam lalu</td>\n",
       "      <td>https://www.cnbcindonesia.com/market/202207090...</td>\n",
       "    </tr>\n",
       "    <tr>\n",
       "      <th>2</th>\n",
       "      <td>Luhut Ngamuk, Minyak Sawit Indonesia Malah Dia...</td>\n",
       "      <td>CNBC Indonesia</td>\n",
       "      <td>3 jam lalu</td>\n",
       "      <td>https://www.cnbcindonesia.com/news/20220709133...</td>\n",
       "    </tr>\n",
       "    <tr>\n",
       "      <th>3</th>\n",
       "      <td>Jreengg... Elon Musk Batal Beli Twitter!</td>\n",
       "      <td>CNBC Indonesia</td>\n",
       "      <td>5 jam lalu</td>\n",
       "      <td>https://www.cnbcindonesia.com/market/202207091...</td>\n",
       "    </tr>\n",
       "    <tr>\n",
       "      <th>4</th>\n",
       "      <td>Kamu Mau ke Luar Negeri? Booster Dulu! Wajib M...</td>\n",
       "      <td>CNBC Indonesia</td>\n",
       "      <td>8 jam lalu</td>\n",
       "      <td>https://www.cnbcindonesia.com/news/20220709105...</td>\n",
       "    </tr>\n",
       "  </tbody>\n",
       "</table>\n",
       "</div>"
      ],
      "text/plain": [
       "                                               title          source  \\\n",
       "0  Mantan Menkeu Inggris Maju Mau Gantikan Boris ...  CNBC Indonesia   \n",
       "1  Ada 45 Emiten Terbitkan Obligasi dan Sukuk Sen...  CNBC Indonesia   \n",
       "2  Luhut Ngamuk, Minyak Sawit Indonesia Malah Dia...  CNBC Indonesia   \n",
       "3           Jreengg... Elon Musk Batal Beli Twitter!  CNBC Indonesia   \n",
       "4  Kamu Mau ke Luar Negeri? Booster Dulu! Wajib M...  CNBC Indonesia   \n",
       "\n",
       "         date                                               link  \n",
       "0  7 jam lalu  https://www.cnbcindonesia.com/news/20220709111...  \n",
       "1  9 jam lalu  https://www.cnbcindonesia.com/market/202207090...  \n",
       "2  3 jam lalu  https://www.cnbcindonesia.com/news/20220709133...  \n",
       "3  5 jam lalu  https://www.cnbcindonesia.com/market/202207091...  \n",
       "4  8 jam lalu  https://www.cnbcindonesia.com/news/20220709105...  "
      ]
     },
     "execution_count": 30,
     "metadata": {},
     "output_type": "execute_result"
    }
   ],
   "source": [
    "for i in news_results:\n",
    "    title = i['title']\n",
    "    source = i['source']\n",
    "    date = i['date']\n",
    "    link = i['link']\n",
    "\n",
    "    # lets put all news we've collected into DataFrame \n",
    "    df = pd.concat([df, pd.DataFrame.from_records([{\n",
    "                    'title':title,'source':source,'date':date,'link':link }])]\n",
    "                    ,ignore_index=True)\n",
    "df.head()"
   ]
  },
  {
   "cell_type": "code",
   "execution_count": 31,
   "id": "c298559e",
   "metadata": {},
   "outputs": [],
   "source": [
    "# save it into csv\n",
    "df.to_csv(r'C:\\Users\\wis\\Documents\\GitHub\\webscraping\\google\\googlenews.csv', index=False)"
   ]
  }
 ],
 "metadata": {
  "kernelspec": {
   "display_name": "Python 3.9.7 ('condawind')",
   "language": "python",
   "name": "python3"
  },
  "language_info": {
   "codemirror_mode": {
    "name": "ipython",
    "version": 3
   },
   "file_extension": ".py",
   "mimetype": "text/x-python",
   "name": "python",
   "nbconvert_exporter": "python",
   "pygments_lexer": "ipython3",
   "version": "3.9.7"
  },
  "vscode": {
   "interpreter": {
    "hash": "8e3802b27887ce9c9a399d18b9e88e87d3bbd2cb82bdf3ac49206f060623ca27"
   }
  }
 },
 "nbformat": 4,
 "nbformat_minor": 5
}
