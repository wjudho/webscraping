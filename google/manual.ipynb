{
 "cells": [
  {
   "cell_type": "markdown",
   "metadata": {},
   "source": [
    "# **Scraping GoogleNews Top Stories (No Pagination/1 Page)- BeautifulSoap4**\n",
    "\n",
    "### **1. Parsing HTML**"
   ]
  },
  {
   "cell_type": "code",
   "execution_count": 342,
   "metadata": {},
   "outputs": [],
   "source": [
    "from bs4 import BeautifulSoup\n",
    "from urllib.parse import urljoin\n",
    "import requests\n",
    "import pandas as pd"
   ]
  },
  {
   "cell_type": "code",
   "execution_count": 343,
   "metadata": {},
   "outputs": [],
   "source": [
    "# specify url to scrape\n",
    "url = 'https://news.google.com/topstories?hl=id&gl=ID&ceid=ID:id'\n",
    "# alternative-1 (online parsing)\n",
    "page = requests.get(url).text\n",
    "\n",
    "# create an object to scrape various data later\n",
    "soup = BeautifulSoup(page, 'html.parser')"
   ]
  },
  {
   "cell_type": "code",
   "execution_count": null,
   "metadata": {},
   "outputs": [],
   "source": [
    "# alternative-2 (offline parsing)\n",
    "# uncomment iteration below to run\n",
    "# with open('manual.html', 'r') as f:\n",
    "#     page = f.read()\n",
    "# page"
   ]
  },
  {
   "cell_type": "markdown",
   "metadata": {},
   "source": [
    "### **2. Grab HTML Tag, Class, and Text**"
   ]
  },
  {
   "cell_type": "code",
   "execution_count": 344,
   "metadata": {},
   "outputs": [
    {
     "data": {
      "text/plain": [
       "'Ajudan Irjen Ferdy Sambo Ditembak, Kapolri Diminta Nonaktifkan Kadiv Propam, IPW: Beliau Saksi Kunci'"
      ]
     },
     "execution_count": 344,
     "metadata": {},
     "output_type": "execute_result"
    }
   ],
   "source": [
    "# grab a title from article=all, .=unspecified class, DY5T1d.RZIKme=attribute\n",
    "result_tl = soup.select('article .DY5T1d.RZIKme')\n",
    "result_tl[0].text"
   ]
  },
  {
   "cell_type": "code",
   "execution_count": 354,
   "metadata": {},
   "outputs": [
    {
     "data": {
      "text/plain": [
       "['Ajudan Irjen Ferdy Sambo Ditembak, Kapolri Diminta Nonaktifkan Kadiv Propam, IPW: Beliau Saksi Kunci',\n",
       " 'Kronologi Brigadir J Ditembak Polisi Bharada E di Rumah Irjen Ferdy Sambo',\n",
       " 'Polisi Tembak Polisi, Keluarga Temukan 4 Bekas Luka Tembakan pada Jenazah Brigpol Yosua',\n",
       " 'Polisi Tembak Polisi di Rumah Pejabat Polri, Brigadir J dari Propam Tewas',\n",
       " '8 Hal yang Diketahui dari Penembakan Maut Ajudan Kadiv Propam',\n",
       " 'Ibu Pembunuh Shinzo Abe Anggota Gereja Sekte Kristen di Jepang',\n",
       " 'Pembunuh Shinzo Abe: Identitas dan Motif Tembak Shinzo Abe',\n",
       " 'Shinzo Abe, Nasionalis Sayap Kanan Tewas di Kota Kuno - Ayo Bandung',\n",
       " 'Gereja Unifikasi Jepang Jawab soal Dugaan Keanggotaan Shinzo Abe',\n",
       " 'Fakta Baru Pembunuh Shinzo Abe: dari Motif hingga Senjata',\n",
       " 'Mengejutkan! 5 Fakta Sosok Mas Bechi Pelaku Pencabulan, Anak Kiai yang Jadi Wakil Rektor PonPes tapi Ogah-ogahan Salat',\n",
       " 'Pencabulan Anak Kiai Jombang Tak Cukup Sekadar Cabut Izin Pesantren',\n",
       " \"Sosok 'Sang Raja' Bechi Terjerat Pencabulan-Miliki Tempat Bai'at Megah\",\n",
       " 'Anak Kiai Jombang Mas Bechi Cabuli Santri Dua Kali, Beraksi di Gubuk Cokro Kembang Tengah Malam',\n",
       " 'Ayah Mas Bechi Seorang Kiai Karismatik Berpengaruh di Jombang, Pantas Polisi Kesusahan',\n",
       " 'Demonstran Akan Terus Duduki Istana sampai Presiden Sri Lanka Mundur!',\n",
       " \"PM Ranil Wickremesinghe Pernah Janji 'Sulap' Sri Lanka Negara Kaya Raya Pada 2025\",\n",
       " 'Akibat Protes Krisis Ekonomi, Perdana Menteri Sri Lanka Akan Mengundurkan Diri',\n",
       " 'Sejarah Krisis Sri Lanka yang Berujung Pengunduran Diri Presiden Rajapaksa',\n",
       " 'Sabtu Lalu Jadi Puncak Aksi Protes Selama Berbulan-bulan di Sri Lanka',\n",
       " 'Jokowi Tanda Tangani Pemberhentian Lili Pintauli sebagai Pimpinan KPK - Kompas.com',\n",
       " 'Lili Pintauli Siregar Mundur Sebagai Wakil Ketua KPK, Presiden Jokowi Teken Surat Pemberhentiannya',\n",
       " '[LIVE STREAMING] Putusan Sidang Etik Wakil Ketua KPK Lili Pintauli - Kompas.com',\n",
       " 'Lili Pintauli Resmi Ajukan Pengunduran Diri sebagai Wakil Ketua KPK!',\n",
       " 'Jokowi Resmi Teken Surat Pemberhentian Lili Pintauli Siregar',\n",
       " '9 Negara Ini di Ujung Tanduk, Bisa Bangkrut Seperti Sri Lanka',\n",
       " 'Daftar Negara yang Terancam Bangkrut Susul Sri Lanka',\n",
       " 'Negara Bangkrut hingga Presiden Mundur, 5 Fakta Krisis Ekonomi Sri Lanka',\n",
       " 'Potret Kehidupan Penuh Kesedihan di Sri Lanka yang Bangkrut',\n",
       " 'Laos dan Myanmar Terancam Bangkrut Susul Sri Lanka, RI Apa Kabar?']"
      ]
     },
     "execution_count": 354,
     "metadata": {},
     "output_type": "execute_result"
    }
   ],
   "source": [
    "# grab all title\n",
    "title = [t.text for t in result_tl]\n",
    "title"
   ]
  },
  {
   "cell_type": "code",
   "execution_count": 346,
   "metadata": {},
   "outputs": [
    {
     "data": {
      "text/plain": [
       "<time class=\"WW6dff uQIVzc Sksgp slhocf\" datetime=\"2022-07-11T10:23:24Z\">2 jam lalu</time>"
      ]
     },
     "execution_count": 346,
     "metadata": {},
     "output_type": "execute_result"
    }
   ],
   "source": [
    "# grab a timedate from article=all, time=element, datetime=attribute\n",
    "result_dt = soup.select('[datetime]')\n",
    "result_dt[0]"
   ]
  },
  {
   "cell_type": "code",
   "execution_count": 347,
   "metadata": {},
   "outputs": [
    {
     "data": {
      "text/plain": [
       "['2022-07-11T10:23:24Z',\n",
       " '2022-07-11T10:27:31Z',\n",
       " '2022-07-11T10:28:32Z',\n",
       " '2022-07-11T08:00:08Z',\n",
       " '2022-07-11T10:25:36Z',\n",
       " '2022-07-11T07:42:07Z',\n",
       " '2022-07-11T08:15:55Z',\n",
       " '2022-07-10T05:43:00Z',\n",
       " '2022-07-11T10:47:59Z',\n",
       " '2022-07-10T22:30:37Z',\n",
       " '2022-07-11T04:24:00Z',\n",
       " '2022-07-11T04:26:39Z',\n",
       " '2022-07-11T02:06:55Z',\n",
       " '2022-07-11T04:48:39Z',\n",
       " '2022-07-10T17:17:50Z',\n",
       " '2022-07-11T04:07:11Z',\n",
       " '2022-07-11T06:54:25Z',\n",
       " '2022-07-10T11:56:20Z',\n",
       " '2022-07-10T23:15:56Z',\n",
       " '2022-07-11T07:13:14Z',\n",
       " '2022-07-11T05:18:00Z',\n",
       " '2022-07-11T08:05:46Z',\n",
       " '2022-07-11T06:09:00Z',\n",
       " '2022-07-11T05:17:53Z',\n",
       " '2022-07-11T05:46:00Z',\n",
       " '2022-07-11T06:00:19Z',\n",
       " '2022-07-11T03:02:10Z',\n",
       " '2022-07-11T07:49:11Z',\n",
       " '2022-07-11T03:02:52Z',\n",
       " '2022-07-11T06:29:36Z']"
      ]
     },
     "execution_count": 347,
     "metadata": {},
     "output_type": "execute_result"
    }
   ],
   "source": [
    "# grab all timedate\n",
    "timedate = [d['datetime'] for d in result_dt]\n",
    "timedate"
   ]
  },
  {
   "cell_type": "code",
   "execution_count": 348,
   "metadata": {},
   "outputs": [
    {
     "data": {
      "text/plain": [
       "'Tribunnews.com'"
      ]
     },
     "execution_count": 348,
     "metadata": {},
     "output_type": "execute_result"
    }
   ],
   "source": [
    "# grab a source from article=all, .wEwyrc=attribute\n",
    "result_src = soup.select('article .wEwyrc.AVN2gc.uQIVzc.Sksgp.slhocf')\n",
    "result_src[0].text"
   ]
  },
  {
   "cell_type": "code",
   "execution_count": 349,
   "metadata": {},
   "outputs": [
    {
     "data": {
      "text/plain": [
       "'./articles/CAIiEBAyWcRaEsaLzDtGejLjQO8qGQgEKhAIACoHCAow5o6OCzDE5aADMOO01AY?uo=CAUikAFodHRwczovL3d3dy50cmlidW5uZXdzLmNvbS9uYXNpb25hbC8yMDIyLzA3LzExL2FqdWRhbi1pcmplbi1mZXJkeS1zYW1iby1kaXRlbWJhay1rYXBvbHJpLWRpbWludGEtbm9uYWt0aWZrYW4ta2FkaXYtcHJvcGFtLWlwdy1iZWxpYXUtc2Frc2kta3VuY2nSAQA&hl=id&gl=ID&ceid=ID%3Aid'"
      ]
     },
     "execution_count": 349,
     "metadata": {},
     "output_type": "execute_result"
    }
   ],
   "source": [
    "# grab a link\n",
    "result_link = soup.select('article .DY5T1d.RZIKme')\n",
    "result_link[0]['href']\n",
    "\n",
    "# as you can see in the output, the links are relative-url \n",
    "# we should turn those into absolute-url"
   ]
  },
  {
   "cell_type": "code",
   "execution_count": 355,
   "metadata": {},
   "outputs": [
    {
     "data": {
      "text/plain": [
       "['Tribunnews.com',\n",
       " 'KOMPASTV',\n",
       " 'Tribunnews.com',\n",
       " 'detikNews',\n",
       " 'detikNews',\n",
       " 'CNN Indonesia',\n",
       " 'detikNews',\n",
       " 'Ayo Bandung',\n",
       " 'CNN Indonesia',\n",
       " 'detikNews',\n",
       " 'tvOneNews.com',\n",
       " 'CNN Indonesia',\n",
       " 'detikcom',\n",
       " 'Tribunnews',\n",
       " 'JPNN.com',\n",
       " 'detikNews',\n",
       " 'Suara.com',\n",
       " 'KOMPASTV',\n",
       " 'detikFinance',\n",
       " 'Suara.com',\n",
       " 'Nasional Kompas.com',\n",
       " 'Tribunnews',\n",
       " 'Nasional Kompas.com',\n",
       " 'detikNews',\n",
       " 'Nasional Tempo',\n",
       " 'CNBC Indonesia',\n",
       " 'CNN Indonesia',\n",
       " 'Tribunnews',\n",
       " 'detikNews',\n",
       " 'CNN Indonesia']"
      ]
     },
     "execution_count": 355,
     "metadata": {},
     "output_type": "execute_result"
    }
   ],
   "source": [
    "# grab all source\n",
    "source = [s.text for s in result_src]\n",
    "source"
   ]
  },
  {
   "cell_type": "markdown",
   "metadata": {},
   "source": [
    "### **3. Turn Relative-URL into Absolute-URL**"
   ]
  },
  {
   "cell_type": "code",
   "execution_count": 351,
   "metadata": {},
   "outputs": [],
   "source": [
    "# let's provide empty list to store absolute-links after iteration\n",
    "# this way, we can parse links into a list\n",
    "links = []\n",
    "\n",
    "# let's turn all relative-url into absolute-url by iterating all links\n",
    "base_url = 'https://news.google.com/'\n",
    "for i in soup.select('article .DY5T1d.RZIKme'):\n",
    "    ss = urljoin(base_url, i.get('href'))\n",
    "    # put all absolute links into empty list\n",
    "    links.append(ss)\n",
    "\n",
    "# to remove bracket or unlist, just uncomment iteration below\n",
    "# for inp in links:\n",
    "#     print(inp)"
   ]
  },
  {
   "cell_type": "markdown",
   "metadata": {},
   "source": [
    "### **4. Putting All of Data Together into a List**"
   ]
  },
  {
   "cell_type": "code",
   "execution_count": 356,
   "metadata": {},
   "outputs": [
    {
     "data": {
      "text/plain": [
       "[('Tribunnews.com',\n",
       "  'Ajudan Irjen Ferdy Sambo Ditembak, Kapolri Diminta Nonaktifkan Kadiv Propam, IPW: Beliau Saksi Kunci',\n",
       "  '2022-07-11T10:23:24Z',\n",
       "  'https://news.google.com/articles/CAIiEBAyWcRaEsaLzDtGejLjQO8qGQgEKhAIACoHCAow5o6OCzDE5aADMOO01AY?uo=CAUikAFodHRwczovL3d3dy50cmlidW5uZXdzLmNvbS9uYXNpb25hbC8yMDIyLzA3LzExL2FqdWRhbi1pcmplbi1mZXJkeS1zYW1iby1kaXRlbWJhay1rYXBvbHJpLWRpbWludGEtbm9uYWt0aWZrYW4ta2FkaXYtcHJvcGFtLWlwdy1iZWxpYXUtc2Frc2kta3VuY2nSAQA&hl=id&gl=ID&ceid=ID%3Aid'),\n",
       " ('KOMPASTV',\n",
       "  'Kronologi Brigadir J Ditembak Polisi Bharada E di Rumah Irjen Ferdy Sambo',\n",
       "  '2022-07-11T10:27:31Z',\n",
       "  'https://news.google.com/articles/CCAiC3ViV29IX0VybHEwmAEB?hl=id&gl=ID&ceid=ID%3Aid'),\n",
       " ('Tribunnews.com',\n",
       "  'Polisi Tembak Polisi, Keluarga Temukan 4 Bekas Luka Tembakan pada Jenazah Brigpol Yosua',\n",
       "  '2022-07-11T10:28:32Z',\n",
       "  'https://news.google.com/articles/CAIiEMf747LKG2Pcv0tsIvkkp84qGQgEKhAIACoHCAow5o6OCzDE5aADMO2LqwY?uo=CAUihQFodHRwczovL3d3dy50cmlidW5uZXdzLmNvbS9uYXNpb25hbC8yMDIyLzA3LzExL3BvbGlzaS10ZW1iYWstcG9saXNpLWtlbHVhcmdhLXRlbXVrYW4tNC1iZWthcy1sdWthLXRlbWJha2FuLXBhZGEtamVuYXphaC1icmlncG9sLXlvc3Vh0gEA&hl=id&gl=ID&ceid=ID%3Aid'),\n",
       " ('detikNews',\n",
       "  'Polisi Tembak Polisi di Rumah Pejabat Polri, Brigadir J dari Propam Tewas',\n",
       "  '2022-07-11T08:00:08Z',\n",
       "  'https://news.google.com/articles/CBMicGh0dHBzOi8vbmV3cy5kZXRpay5jb20vYmVyaXRhL2QtNjE3MzQwOS9wb2xpc2ktdGVtYmFrLXBvbGlzaS1kaS1ydW1haC1wZWphYmF0LXBvbHJpLWJyaWdhZGlyLWotZGFyaS1wcm9wYW0tdGV3YXPSAXRodHRwczovL25ld3MuZGV0aWsuY29tL2Jlcml0YS9kLTYxNzM0MDkvcG9saXNpLXRlbWJhay1wb2xpc2ktZGktcnVtYWgtcGVqYWJhdC1wb2xyaS1icmlnYWRpci1qLWRhcmktcHJvcGFtLXRld2FzL2FtcA?hl=id&gl=ID&ceid=ID%3Aid'),\n",
       " ('detikNews',\n",
       "  '8 Hal yang Diketahui dari Penembakan Maut Ajudan Kadiv Propam',\n",
       "  '2022-07-11T10:25:36Z',\n",
       "  'https://news.google.com/articles/CBMiZWh0dHBzOi8vbmV3cy5kZXRpay5jb20vYmVyaXRhL2QtNjE3MzgzMi84LWhhbC15YW5nLWRpa2V0YWh1aS1kYXJpLXBlbmVtYmFrYW4tbWF1dC1hanVkYW4ta2FkaXYtcHJvcGFt0gFpaHR0cHM6Ly9uZXdzLmRldGlrLmNvbS9iZXJpdGEvZC02MTczODMyLzgtaGFsLXlhbmctZGlrZXRhaHVpLWRhcmktcGVuZW1iYWthbi1tYXV0LWFqdWRhbi1rYWRpdi1wcm9wYW0vYW1w?hl=id&gl=ID&ceid=ID%3Aid'),\n",
       " ('CNN Indonesia',\n",
       "  'Ibu Pembunuh Shinzo Abe Anggota Gereja Sekte Kristen di Jepang',\n",
       "  '2022-07-11T07:42:07Z',\n",
       "  'https://news.google.com/articles/CAIiEERvwBtDbRrWwvm-H23MCEkqMwgEKioIACIQ3Sax1OtL6IZjpKEyJBUKryoUCAoiEN0msdTrS-iGY6ShMiQVCq8wsr-BBw?uo=CAUigwFodHRwczovL3d3dy5jbm5pbmRvbmVzaWEuY29tL2ludGVybmFzaW9uYWwvMjAyMjA3MTExNDI2MTYtMTEzLTgxOTk4Ni9pYnUtcGVtYnVudWgtc2hpbnpvLWFiZS1hbmdnb3RhLWdlcmVqYS1zZWt0ZS1rcmlzdGVuLWRpLWplcGFuZ9IBAA&hl=id&gl=ID&ceid=ID%3Aid'),\n",
       " ('detikNews',\n",
       "  'Pembunuh Shinzo Abe: Identitas dan Motif Tembak Shinzo Abe',\n",
       "  '2022-07-11T08:15:55Z',\n",
       "  'https://news.google.com/articles/CBMiaGh0dHBzOi8vbmV3cy5kZXRpay5jb20vaW50ZXJuYXNpb25hbC9kLTYxNzM0NjIvcGVtYnVudWgtc2hpbnpvLWFiZS1pZGVudGl0YXMtZGFuLW1vdGlmLXRlbWJhay1zaGluem8tYWJl0gFsaHR0cHM6Ly9uZXdzLmRldGlrLmNvbS9pbnRlcm5hc2lvbmFsL2QtNjE3MzQ2Mi9wZW1idW51aC1zaGluem8tYWJlLWlkZW50aXRhcy1kYW4tbW90aWYtdGVtYmFrLXNoaW56by1hYmUvYW1w?hl=id&gl=ID&ceid=ID%3Aid'),\n",
       " ('Ayo Bandung',\n",
       "  'Shinzo Abe, Nasionalis Sayap Kanan Tewas di Kota Kuno - Ayo Bandung',\n",
       "  '2022-07-10T05:43:00Z',\n",
       "  'https://news.google.com/articles/CBMiZGh0dHBzOi8vd3d3LmF5b2JhbmR1bmcuY29tL25ldGl6ZW4vcHItNzkzODU2MDQ0L3NoaW56by1hYmUtbmFzaW9uYWxpcy1zYXlhcC1rYW5hbi10ZXdhcy1kaS1rb3RhLWt1bm_SAWhodHRwczovL3d3dy5heW9iYW5kdW5nLmNvbS9uZXRpemVuL2FtcC9wci03OTM4NTYwNDQvc2hpbnpvLWFiZS1uYXNpb25hbGlzLXNheWFwLWthbmFuLXRld2FzLWRpLWtvdGEta3Vubw?hl=id&gl=ID&ceid=ID%3Aid'),\n",
       " ('CNN Indonesia',\n",
       "  'Gereja Unifikasi Jepang Jawab soal Dugaan Keanggotaan Shinzo Abe',\n",
       "  '2022-07-11T10:47:59Z',\n",
       "  'https://news.google.com/articles/CAIiEKzjMoZu2newIb2Mad8-aLQqMwgEKioIACIQ3Sax1OtL6IZjpKEyJBUKryoUCAoiEN0msdTrS-iGY6ShMiQVCq8wsr-BBw?uo=CAUihQFodHRwczovL3d3dy5jbm5pbmRvbmVzaWEuY29tL2ludGVybmFzaW9uYWwvMjAyMjA3MTExNzA4NTUtMTEzLTgyMDA4Ny9nZXJlamEtdW5pZmlrYXNpLWplcGFuZy1qYXdhYi1zb2FsLWR1Z2Fhbi1rZWFuZ2dvdGFhbi1zaGluem8tYWJl0gEA&hl=id&gl=ID&ceid=ID%3Aid'),\n",
       " ('detikNews',\n",
       "  'Fakta Baru Pembunuh Shinzo Abe: dari Motif hingga Senjata',\n",
       "  '2022-07-10T22:30:37Z',\n",
       "  'https://news.google.com/articles/CBMiZ2h0dHBzOi8vbmV3cy5kZXRpay5jb20vaW50ZXJuYXNpb25hbC9kLTYxNzI2MzMvZmFrdGEtYmFydS1wZW1idW51aC1zaGluem8tYWJlLWRhcmktbW90aWYtaGluZ2dhLXNlbmphdGHSAWtodHRwczovL25ld3MuZGV0aWsuY29tL2ludGVybmFzaW9uYWwvZC02MTcyNjMzL2Zha3RhLWJhcnUtcGVtYnVudWgtc2hpbnpvLWFiZS1kYXJpLW1vdGlmLWhpbmdnYS1zZW5qYXRhL2FtcA?hl=id&gl=ID&ceid=ID%3Aid'),\n",
       " ('tvOneNews.com',\n",
       "  'Mengejutkan! 5 Fakta Sosok Mas Bechi Pelaku Pencabulan, Anak Kiai yang Jadi Wakil Rektor PonPes tapi Ogah-ogahan Salat',\n",
       "  '2022-07-11T04:24:00Z',\n",
       "  'https://news.google.com/articles/CBMinwFodHRwczovL3d3dy50dm9uZW5ld3MuY29tL2RhZXJhaC9qYXRpbS81Mjg3My1tZW5nZWp1dGthbi01LWZha3RhLXNvc29rLW1hcy1iZWNoaS1wZWxha3UtcGVuY2FidWxhbi1zaS1hbmFrLWtpYWktamFkaS13YWtpbC1yZWt0b3ItcG9ucGVzLXRhcGktb2dhaC1vZ2FoYW4tc2FsYXTSAQA?hl=id&gl=ID&ceid=ID%3Aid'),\n",
       " ('CNN Indonesia',\n",
       "  'Pencabulan Anak Kiai Jombang Tak Cukup Sekadar Cabut Izin Pesantren',\n",
       "  '2022-07-11T04:26:39Z',\n",
       "  'https://news.google.com/articles/CAIiEH7VsuA-dqFyE31h-0PmJ24qMwgEKioIACIQ3Sax1OtL6IZjpKEyJBUKryoUCAoiEN0msdTrS-iGY6ShMiQVCq8wsb-BBw?uo=CAUiggFodHRwczovL3d3dy5jbm5pbmRvbmVzaWEuY29tL25hc2lvbmFsLzIwMjIwNzExMTA1MDM3LTEyLTgxOTg4NS9wZW5jYWJ1bGFuLWFuYWsta2lhaS1qb21iYW5nLXRhay1jdWt1cC1zZWthZGFyLWNhYnV0LWl6aW4tcGVzYW50cmVu0gEA&hl=id&gl=ID&ceid=ID%3Aid'),\n",
       " ('detikcom',\n",
       "  \"Sosok 'Sang Raja' Bechi Terjerat Pencabulan-Miliki Tempat Bai'at Megah\",\n",
       "  '2022-07-11T02:06:55Z',\n",
       "  'https://news.google.com/articles/CBMifGh0dHBzOi8vd3d3LmRldGlrLmNvbS9qYXRpbS9odWt1bS1kYW4ta3JpbWluYWwvZC02MTcyNzczL3Nvc29rLXNhbmctcmFqYS1iZWNoaS10ZXJqZXJhdC1wZW5jYWJ1bGFuLW1pbGlraS10ZW1wYXQtYmFpYXQtbWVnYWjSAYABaHR0cHM6Ly93d3cuZGV0aWsuY29tL2phdGltL2h1a3VtLWRhbi1rcmltaW5hbC9kLTYxNzI3NzMvc29zb2stc2FuZy1yYWphLWJlY2hpLXRlcmplcmF0LXBlbmNhYnVsYW4tbWlsaWtpLXRlbXBhdC1iYWlhdC1tZWdhaC9hbXA?hl=id&gl=ID&ceid=ID%3Aid'),\n",
       " ('Tribunnews',\n",
       "  'Anak Kiai Jombang Mas Bechi Cabuli Santri Dua Kali, Beraksi di Gubuk Cokro Kembang Tengah Malam',\n",
       "  '2022-07-11T04:48:39Z',\n",
       "  'https://news.google.com/articles/CCAiC2x2ZUNRNFY3X1RnmAEB?hl=id&gl=ID&ceid=ID%3Aid'),\n",
       " ('JPNN.com',\n",
       "  'Ayah Mas Bechi Seorang Kiai Karismatik Berpengaruh di Jombang, Pantas Polisi Kesusahan',\n",
       "  '2022-07-10T17:17:50Z',\n",
       "  'https://news.google.com/articles/CBMibWh0dHBzOi8vbS5qcG5uLmNvbS9uZXdzL2F5YWgtbWFzLWJlY2hpLXNlb3Jhbmcta2lhaS1rYXJpc21hdGlrLWJlcnBlbmdhcnVoLWRpLWpvbWJhbmctcGFudGFzLXBvbGlzaS1rZXN1c2FoYW7SAXFodHRwczovL20uanBubi5jb20vYW1wL25ld3MvYXlhaC1tYXMtYmVjaGktc2VvcmFuZy1raWFpLWthcmlzbWF0aWstYmVycGVuZ2FydWgtZGktam9tYmFuZy1wYW50YXMtcG9saXNpLWtlc3VzYWhhbg?hl=id&gl=ID&ceid=ID%3Aid'),\n",
       " ('detikNews',\n",
       "  'Demonstran Akan Terus Duduki Istana sampai Presiden Sri Lanka Mundur!',\n",
       "  '2022-07-11T04:07:11Z',\n",
       "  'https://news.google.com/articles/CBMic2h0dHBzOi8vbmV3cy5kZXRpay5jb20vaW50ZXJuYXNpb25hbC9kLTYxNzI5NDkvZGVtb25zdHJhbi1ha2FuLXRlcnVzLWR1ZHVraS1pc3RhbmEtc2FtcGFpLXByZXNpZGVuLXNyaS1sYW5rYS1tdW5kdXLSAXdodHRwczovL25ld3MuZGV0aWsuY29tL2ludGVybmFzaW9uYWwvZC02MTcyOTQ5L2RlbW9uc3RyYW4tYWthbi10ZXJ1cy1kdWR1a2ktaXN0YW5hLXNhbXBhaS1wcmVzaWRlbi1zcmktbGFua2EtbXVuZHVyL2FtcA?hl=id&gl=ID&ceid=ID%3Aid'),\n",
       " ('Suara.com',\n",
       "  \"PM Ranil Wickremesinghe Pernah Janji 'Sulap' Sri Lanka Negara Kaya Raya Pada 2025\",\n",
       "  '2022-07-11T06:54:25Z',\n",
       "  'https://news.google.com/articles/CAIiEHEkYInt-AEVwXJ6EvhRtDMqGQgEKhAIACoHCAow6aqNCzDNo58DMPTPwAY?uo=CAUifmh0dHBzOi8vd3d3LnN1YXJhLmNvbS9iaXNuaXMvMjAyMi8wNy8xMS8xMzU0MjUvcG0tcmFuaWwtd2lja3JlbWVzaW5naGUtcGVybmFoLWphbmppLXN1bGFwLXNyaS1sYW5rYS1uZWdhcmEta2F5YS1yYXlhLXBhZGEtMjAyNdIBAA&hl=id&gl=ID&ceid=ID%3Aid'),\n",
       " ('KOMPASTV',\n",
       "  'Akibat Protes Krisis Ekonomi, Perdana Menteri Sri Lanka Akan Mengundurkan Diri',\n",
       "  '2022-07-10T11:56:20Z',\n",
       "  'https://news.google.com/articles/CCAiC3NwLUMyT2dWa0k0mAEB?hl=id&gl=ID&ceid=ID%3Aid'),\n",
       " ('detikFinance',\n",
       "  'Sejarah Krisis Sri Lanka yang Berujung Pengunduran Diri Presiden Rajapaksa',\n",
       "  '2022-07-10T23:15:56Z',\n",
       "  'https://news.google.com/articles/CBMihAFodHRwczovL2ZpbmFuY2UuZGV0aWsuY29tL2Jlcml0YS1la29ub21pLWJpc25pcy9kLTYxNzI1MTIvc2VqYXJhaC1rcmlzaXMtc3JpLWxhbmthLXlhbmctYmVydWp1bmctcGVuZ3VuZHVyYW4tZGlyaS1wcmVzaWRlbi1yYWphcGFrc2HSAYgBaHR0cHM6Ly9maW5hbmNlLmRldGlrLmNvbS9iZXJpdGEtZWtvbm9taS1iaXNuaXMvZC02MTcyNTEyL3NlamFyYWgta3Jpc2lzLXNyaS1sYW5rYS15YW5nLWJlcnVqdW5nLXBlbmd1bmR1cmFuLWRpcmktcHJlc2lkZW4tcmFqYXBha3NhL2FtcA?hl=id&gl=ID&ceid=ID%3Aid'),\n",
       " ('Suara.com',\n",
       "  'Sabtu Lalu Jadi Puncak Aksi Protes Selama Berbulan-bulan di Sri Lanka',\n",
       "  '2022-07-11T07:13:14Z',\n",
       "  'https://news.google.com/articles/CAIiEMKkAeP1zrS2z7P8wojbwBMqGQgEKhAIACoHCAow6aqNCzDNo58DMNOQqAY?uo=CAUicmh0dHBzOi8vd3d3LnN1YXJhLmNvbS9uZXdzLzIwMjIvMDcvMTEvMTQxMzE0L3NhYnR1LWxhbHUtamFkaS1wdW5jYWstYWtzaS1wcm90ZXMtc2VsYW1hLWJlcmJ1bGFuLWJ1bGFuLWRpLXNyaS1sYW5rYdIBAA&hl=id&gl=ID&ceid=ID%3Aid'),\n",
       " ('Nasional Kompas.com',\n",
       "  'Jokowi Tanda Tangani Pemberhentian Lili Pintauli sebagai Pimpinan KPK - Kompas.com',\n",
       "  '2022-07-11T05:18:00Z',\n",
       "  'https://news.google.com/articles/CBMiemh0dHBzOi8vbmFzaW9uYWwua29tcGFzLmNvbS9yZWFkLzIwMjIvMDcvMTEvMTIxODQ3ODEvam9rb3dpLXRhbmRhLXRhbmdhbmktcGVtYmVyaGVudGlhbi1saWxpLXBpbnRhdWxpLXNlYmFnYWktcGltcGluYW4ta3Br0gF-aHR0cHM6Ly9hbXAua29tcGFzLmNvbS9uYXNpb25hbC9yZWFkLzIwMjIvMDcvMTEvMTIxODQ3ODEvam9rb3dpLXRhbmRhLXRhbmdhbmktcGVtYmVyaGVudGlhbi1saWxpLXBpbnRhdWxpLXNlYmFnYWktcGltcGluYW4ta3Br?hl=id&gl=ID&ceid=ID%3Aid'),\n",
       " ('Tribunnews',\n",
       "  'Lili Pintauli Siregar Mundur Sebagai Wakil Ketua KPK, Presiden Jokowi Teken Surat Pemberhentiannya',\n",
       "  '2022-07-11T08:05:46Z',\n",
       "  'https://news.google.com/articles/CCAiCzJERU9hM1hTZWlBmAEB?hl=id&gl=ID&ceid=ID%3Aid'),\n",
       " ('Nasional Kompas.com',\n",
       "  '[LIVE STREAMING] Putusan Sidang Etik Wakil Ketua KPK Lili Pintauli - Kompas.com',\n",
       "  '2022-07-11T06:09:00Z',\n",
       "  'https://news.google.com/articles/CBMidWh0dHBzOi8vbmFzaW9uYWwua29tcGFzLmNvbS9yZWFkLzIwMjIvMDcvMTEvMTMwOTIyNjEvbGl2ZS1zdHJlYW1pbmctcHV0dXNhbi1zaWRhbmctZXRpay13YWtpbC1rZXR1YS1rcGstbGlsaS1waW50YXVsadIBeWh0dHBzOi8vYW1wLmtvbXBhcy5jb20vbmFzaW9uYWwvcmVhZC8yMDIyLzA3LzExLzEzMDkyMjYxL2xpdmUtc3RyZWFtaW5nLXB1dHVzYW4tc2lkYW5nLWV0aWstd2FraWwta2V0dWEta3BrLWxpbGktcGludGF1bGk?hl=id&gl=ID&ceid=ID%3Aid'),\n",
       " ('detikNews',\n",
       "  'Lili Pintauli Resmi Ajukan Pengunduran Diri sebagai Wakil Ketua KPK!',\n",
       "  '2022-07-11T05:17:53Z',\n",
       "  'https://news.google.com/articles/CBMia2h0dHBzOi8vbmV3cy5kZXRpay5jb20vYmVyaXRhL2QtNjE3MzA5Ni9saWxpLXBpbnRhdWxpLXJlc21pLWFqdWthbi1wZW5ndW5kdXJhbi1kaXJpLXNlYmFnYWktd2FraWwta2V0dWEta3Br0gFvaHR0cHM6Ly9uZXdzLmRldGlrLmNvbS9iZXJpdGEvZC02MTczMDk2L2xpbGktcGludGF1bGktcmVzbWktYWp1a2FuLXBlbmd1bmR1cmFuLWRpcmktc2ViYWdhaS13YWtpbC1rZXR1YS1rcGsvYW1w?hl=id&gl=ID&ceid=ID%3Aid'),\n",
       " ('Nasional Tempo',\n",
       "  'Jokowi Resmi Teken Surat Pemberhentian Lili Pintauli Siregar',\n",
       "  '2022-07-11T05:46:00Z',\n",
       "  'https://news.google.com/articles/CBMiY2h0dHBzOi8vbmFzaW9uYWwudGVtcG8uY28vcmVhZC8xNjEwODQzL2pva293aS1yZXNtaS10ZWtlbi1zdXJhdC1wZW1iZXJoZW50aWFuLWxpbGktcGludGF1bGktc2lyZWdhctIBYmh0dHBzOi8vbmFzaW9uYWwudGVtcG8uY28vYW1wLzE2MTA4NDMvam9rb3dpLXJlc21pLXRla2VuLXN1cmF0LXBlbWJlcmhlbnRpYW4tbGlsaS1waW50YXVsaS1zaXJlZ2Fy?hl=id&gl=ID&ceid=ID%3Aid'),\n",
       " ('CNBC Indonesia',\n",
       "  '9 Negara Ini di Ujung Tanduk, Bisa Bangkrut Seperti Sri Lanka',\n",
       "  '2022-07-11T06:00:19Z',\n",
       "  'https://news.google.com/articles/CAIiEKZcVB9Pr1_uuzjxXdSa8WQqMwgEKioIACIQ_AkAW4K1GN2Prix5sHK-pioUCAoiEPwJAFuCtRjdj64sebByvqYwztCWBw?uo=CAUid2h0dHBzOi8vd3d3LmNuYmNpbmRvbmVzaWEuY29tL25ld3MvMjAyMjA3MTExMTU1MDQtNC0zNTQ1OTEvOS1uZWdhcmEtaW5pLWRpLXVqdW5nLXRhbmR1ay1iaXNhLWJhbmdrcnV0LXNlcGVydGktc3JpLWxhbmth0gEA&hl=id&gl=ID&ceid=ID%3Aid'),\n",
       " ('CNN Indonesia',\n",
       "  'Daftar Negara yang Terancam Bangkrut Susul Sri Lanka',\n",
       "  '2022-07-11T03:02:10Z',\n",
       "  'https://news.google.com/articles/CAIiEOfqKy2AGDiC8XnmnkVfNJ8qMwgEKioIACIQ3Sax1OtL6IZjpKEyJBUKryoUCAoiEN0msdTrS-iGY6ShMiQVCq8ws7-BBw?uo=CAUic2h0dHBzOi8vd3d3LmNubmluZG9uZXNpYS5jb20vZWtvbm9taS8yMDIyMDcxMTA5MzYwMi01MzItODE5ODM3L2RhZnRhci1uZWdhcmEteWFuZy10ZXJhbmNhbS1iYW5na3J1dC1zdXN1bC1zcmktbGFua2HSAQA&hl=id&gl=ID&ceid=ID%3Aid'),\n",
       " ('Tribunnews',\n",
       "  'Negara Bangkrut hingga Presiden Mundur, 5 Fakta Krisis Ekonomi Sri Lanka',\n",
       "  '2022-07-11T07:49:11Z',\n",
       "  'https://news.google.com/articles/CCAiCzViQzFuTWxvc3lnmAEB?hl=id&gl=ID&ceid=ID%3Aid'),\n",
       " ('detikNews',\n",
       "  'Potret Kehidupan Penuh Kesedihan di Sri Lanka yang Bangkrut',\n",
       "  '2022-07-11T03:02:52Z',\n",
       "  'https://news.google.com/articles/CBMiZmh0dHBzOi8vbmV3cy5kZXRpay5jb20vYmJjLXdvcmxkL2QtNjE3MjgzOC9wb3RyZXQta2VoaWR1cGFuLXBlbnVoLWtlc2VkaWhhbi1kaS1zcmktbGFua2EteWFuZy1iYW5na3J1dNIBamh0dHBzOi8vbmV3cy5kZXRpay5jb20vYmJjLXdvcmxkL2QtNjE3MjgzOC9wb3RyZXQta2VoaWR1cGFuLXBlbnVoLWtlc2VkaWhhbi1kaS1zcmktbGFua2EteWFuZy1iYW5na3J1dC9hbXA?hl=id&gl=ID&ceid=ID%3Aid'),\n",
       " ('CNN Indonesia',\n",
       "  'Laos dan Myanmar Terancam Bangkrut Susul Sri Lanka, RI Apa Kabar?',\n",
       "  '2022-07-11T06:29:36Z',\n",
       "  'https://news.google.com/articles/CAIiEBficCB8cFENbOwwz23xOC0qMwgEKioIACIQ3Sax1OtL6IZjpKEyJBUKryoUCAoiEN0msdTrS-iGY6ShMiQVCq8ws7-BBw?uo=CAUifmh0dHBzOi8vd3d3LmNubmluZG9uZXNpYS5jb20vZWtvbm9taS8yMDIyMDcxMTEyMzY1OS01MzItODE5OTM1L2xhb3MtZGFuLW15YW5tYXItdGVyYW5jYW0tYmFuZ2tydXQtc3VzdWwtc3JpLWxhbmthLXJpLWFwYS1rYWJhctIBAA&hl=id&gl=ID&ceid=ID%3Aid')]"
      ]
     },
     "execution_count": 356,
     "metadata": {},
     "output_type": "execute_result"
    }
   ],
   "source": [
    "# putting all of data into a list\n",
    "all_data = list(zip(source, title, timedate, links))\n",
    "all_data"
   ]
  },
  {
   "cell_type": "markdown",
   "metadata": {},
   "source": [
    "### **5. Convert a List into DataFrame**"
   ]
  },
  {
   "cell_type": "code",
   "execution_count": 353,
   "metadata": {},
   "outputs": [
    {
     "data": {
      "text/html": [
       "<div>\n",
       "<style scoped>\n",
       "    .dataframe tbody tr th:only-of-type {\n",
       "        vertical-align: middle;\n",
       "    }\n",
       "\n",
       "    .dataframe tbody tr th {\n",
       "        vertical-align: top;\n",
       "    }\n",
       "\n",
       "    .dataframe thead th {\n",
       "        text-align: right;\n",
       "    }\n",
       "</style>\n",
       "<table border=\"1\" class=\"dataframe\">\n",
       "  <thead>\n",
       "    <tr style=\"text-align: right;\">\n",
       "      <th></th>\n",
       "      <th>source</th>\n",
       "      <th>title</th>\n",
       "      <th>timedate</th>\n",
       "      <th>links</th>\n",
       "    </tr>\n",
       "  </thead>\n",
       "  <tbody>\n",
       "    <tr>\n",
       "      <th>0</th>\n",
       "      <td>Tribunnews.com</td>\n",
       "      <td>Ajudan Irjen Ferdy Sambo Ditembak, Kapolri Dim...</td>\n",
       "      <td>2022-07-11T10:23:24Z</td>\n",
       "      <td>https://news.google.com/articles/CAIiEBAyWcRaE...</td>\n",
       "    </tr>\n",
       "    <tr>\n",
       "      <th>1</th>\n",
       "      <td>KOMPASTV</td>\n",
       "      <td>Kronologi Brigadir J Ditembak Polisi Bharada E...</td>\n",
       "      <td>2022-07-11T10:27:31Z</td>\n",
       "      <td>https://news.google.com/articles/CCAiC3ViV29IX...</td>\n",
       "    </tr>\n",
       "    <tr>\n",
       "      <th>2</th>\n",
       "      <td>Tribunnews.com</td>\n",
       "      <td>Polisi Tembak Polisi, Keluarga Temukan 4 Bekas...</td>\n",
       "      <td>2022-07-11T10:28:32Z</td>\n",
       "      <td>https://news.google.com/articles/CAIiEMf747LKG...</td>\n",
       "    </tr>\n",
       "    <tr>\n",
       "      <th>3</th>\n",
       "      <td>detikNews</td>\n",
       "      <td>Polisi Tembak Polisi di Rumah Pejabat Polri, B...</td>\n",
       "      <td>2022-07-11T08:00:08Z</td>\n",
       "      <td>https://news.google.com/articles/CBMicGh0dHBzO...</td>\n",
       "    </tr>\n",
       "    <tr>\n",
       "      <th>4</th>\n",
       "      <td>detikNews</td>\n",
       "      <td>8 Hal yang Diketahui dari Penembakan Maut Ajud...</td>\n",
       "      <td>2022-07-11T10:25:36Z</td>\n",
       "      <td>https://news.google.com/articles/CBMiZWh0dHBzO...</td>\n",
       "    </tr>\n",
       "  </tbody>\n",
       "</table>\n",
       "</div>"
      ],
      "text/plain": [
       "           source                                              title  \\\n",
       "0  Tribunnews.com  Ajudan Irjen Ferdy Sambo Ditembak, Kapolri Dim...   \n",
       "1        KOMPASTV  Kronologi Brigadir J Ditembak Polisi Bharada E...   \n",
       "2  Tribunnews.com  Polisi Tembak Polisi, Keluarga Temukan 4 Bekas...   \n",
       "3       detikNews  Polisi Tembak Polisi di Rumah Pejabat Polri, B...   \n",
       "4       detikNews  8 Hal yang Diketahui dari Penembakan Maut Ajud...   \n",
       "\n",
       "               timedate                                              links  \n",
       "0  2022-07-11T10:23:24Z  https://news.google.com/articles/CAIiEBAyWcRaE...  \n",
       "1  2022-07-11T10:27:31Z  https://news.google.com/articles/CCAiC3ViV29IX...  \n",
       "2  2022-07-11T10:28:32Z  https://news.google.com/articles/CAIiEMf747LKG...  \n",
       "3  2022-07-11T08:00:08Z  https://news.google.com/articles/CBMicGh0dHBzO...  \n",
       "4  2022-07-11T10:25:36Z  https://news.google.com/articles/CBMiZWh0dHBzO...  "
      ]
     },
     "execution_count": 353,
     "metadata": {},
     "output_type": "execute_result"
    }
   ],
   "source": [
    "# convert a list to dataframe\n",
    "df = pd.DataFrame(all_data, columns=['source', 'title', 'timedate', 'links'])\n",
    "\n",
    "# save to csv\n",
    "df.to_csv(r'C:\\Users\\wis\\Documents\\GitHub\\webscraping\\google\\manual.csv', index=False)\n",
    "df.head()"
   ]
  }
 ],
 "metadata": {
  "kernelspec": {
   "display_name": "Python 3.9.7 ('condawind')",
   "language": "python",
   "name": "python3"
  },
  "language_info": {
   "codemirror_mode": {
    "name": "ipython",
    "version": 3
   },
   "file_extension": ".py",
   "mimetype": "text/x-python",
   "name": "python",
   "nbconvert_exporter": "python",
   "pygments_lexer": "ipython3",
   "version": "3.9.7"
  },
  "orig_nbformat": 4,
  "vscode": {
   "interpreter": {
    "hash": "8e3802b27887ce9c9a399d18b9e88e87d3bbd2cb82bdf3ac49206f060623ca27"
   }
  }
 },
 "nbformat": 4,
 "nbformat_minor": 2
}
