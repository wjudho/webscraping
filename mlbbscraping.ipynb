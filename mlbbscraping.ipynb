{
 "cells": [
  {
   "cell_type": "markdown",
   "metadata": {},
   "source": [
    "# **Web Scraping using Request POST Method**\n",
    "<p align=\"center\">\n",
    "<img width=\"\" height=\"\" src=\"https://raw.githubusercontent.com/wjudho/wjudho/main/images/apis.png\">\n",
    "</p>\n",
    "\n",
    "[ref: scraping-requests-POST Method](https://www.youtube.com/watch?v=DqtlR0y0suo)<br>\n",
    "[ref: mobile-legends website](https://m.mobilelegends.com/en/rank)<br>\n",
    "\n",
    "#### **Chrome:** \n",
    "\n",
    "<p align=\"center\">\n",
    "<img width=\"767\" height=\"450\" src=\"https://raw.githubusercontent.com/wjudho/wjudho/main/images/curl(bash).png\">\n",
    "</p>\n",
    "\n",
    "#### **Insomnia:**\n",
    "\n",
    "<p align=\"center\">\n",
    "<img width=\"772\" height=\"431\" src=\"https://raw.githubusercontent.com/wjudho/wjudho/main/images/insomnia.png\">\n",
    "</p>\n",
    "\n",
    "- **step1:** <br>\n",
    "  - create new request,<br> \n",
    "  - paste to insomnia,<br>\n",
    "  - create http.request(POST),<br>\n",
    "  - Press SEND<br>\n",
    "- **step2:** <br>\n",
    "  - uncheck all three sec-ch-ua, <br>\n",
    "  - press SEND again, <br>\n",
    "  - generate python code request, <br>\n",
    "  - copy, then paste it into `VSCode`\n",
    "\n",
    "###### **Everything in section below are pasted from `Insomnia`**<br>"
   ]
  },
  {
   "cell_type": "code",
   "execution_count": 15,
   "metadata": {},
   "outputs": [],
   "source": [
    "# load library\n",
    "import requests\n",
    "\n",
    "url = \"https://api.mobilelegends.com/m/hero/getRankData\"\n",
    "\n",
    "payload = {\n",
    "    \"lang\": \"en\",\n",
    "    \"type\": 0,\n",
    "    \"language\": \"en\"\n",
    "}\n",
    "\n",
    "headers = {\n",
    "    \"authority\": \"api.mobilelegends.com\",\n",
    "    \"accept\": \"application/json\",\n",
    "    \"accept-language\": \"en-US,en;q=0.9,id;q=0.8\",\n",
    "    \"content-type\": \"application/json\",\n",
    "    \"cookie\": \"PHPSESSID=5a4f012ec76b33a62f821d806482cbec\",\n",
    "    \"origin\": \"https://m.mobilelegends.com\",\n",
    "    \"referer\": \"https://m.mobilelegends.com/\",\n",
    "    \"sec-fetch-mode\": \"cors\",\n",
    "    \"sec-fetch-site\": \"same-site\",\n",
    "    \"user-agent\": \"Mozilla/5.0 (Windows NT 10.0; Win64; x64) AppleWebKit/537.36 (KHTML, like Gecko) Chrome/103.0.0.0 Safari/537.36\"\n",
    "}\n",
    "\n",
    "r = requests.request(\"POST\", url, json=payload, headers=headers)"
   ]
  },
  {
   "cell_type": "markdown",
   "metadata": {},
   "source": [
    "**Explanation:**\n",
    "- there are 3 header data contained in json ('status', 'code', and 'data')\n",
    "- and 116 rows which contain our data"
   ]
  },
  {
   "cell_type": "code",
   "execution_count": 16,
   "metadata": {},
   "outputs": [
    {
     "name": "stdout",
     "output_type": "stream",
     "text": [
      "3\n",
      "116\n"
     ]
    }
   ],
   "source": [
    "print(len(r.json()))\n",
    "print(len(r.json()['data']['data']))"
   ]
  },
  {
   "cell_type": "markdown",
   "metadata": {},
   "source": [
    "- if you want to know what it looks like you can uncomment this code below\n",
    "- our json contain column ('id', 'use', 'win', 'ban', 'avatar', and 'name')"
   ]
  },
  {
   "cell_type": "code",
   "execution_count": 17,
   "metadata": {},
   "outputs": [],
   "source": [
    "# r.json()"
   ]
  },
  {
   "cell_type": "markdown",
   "metadata": {},
   "source": [
    "**It Looks Like This:**\n",
    "```json\n",
    "{'status': 'success',\n",
    " 'code': 0,\n",
    "'data': {'data': [{'id': 1,\n",
    "    'use': '2.56%',\n",
    "    'win': '49.58%',\n",
    "    'ban': '0.81%',\n",
    "    'avatar': '//indoch.s3.ml.moonlian.com/web/madmin/image_a844f9aa51baefa6878801edd85fec5e.png',\n",
    "    'name': 'Miya'},\n",
    "   {'id': 2,\n",
    "    'use': '1.77%',\n",
    "    'win': '47.56%',\n",
    "    'ban': '0.67%',\n",
    "    'avatar': '//indoch.s3.ml.moonlian.com/web/madmin/image_be884c14d560f6bc5827e2a663439f94.png',\n",
    "    'name': 'Balmond'}\n",
    "```\n"
   ]
  },
  {
   "cell_type": "markdown",
   "metadata": {},
   "source": [
    "### **VSCode**"
   ]
  },
  {
   "cell_type": "code",
   "execution_count": 18,
   "metadata": {},
   "outputs": [],
   "source": [
    "# load pandas library \n",
    "import pandas as pd\n",
    "\n",
    "# create empty list for later to specify which header we are calling\n",
    "res = []\n",
    "\n",
    "# if you read json, you'll see that all data are contained in \"data\" then \"data\"\n",
    "# we loop between those two to get all 116 data\n",
    "dataku = r.json()\n",
    "for p in dataku['data']['data']:\n",
    "    res.append(p)\n",
    "\n",
    "# let's turn json into DataFrame\n",
    "# I remove column 'avatar'\n",
    "df = pd.json_normalize(res).drop(['avatar'], axis=1).reindex(columns=['id', 'name', 'use', 'win', 'ban'])\n",
    "\n",
    "# save to csv\n",
    "df.to_csv(r'C:\\Users\\wis\\Documents\\GitHub\\webscraping\\mlbbscraping.csv', index=False)"
   ]
  },
  {
   "cell_type": "markdown",
   "metadata": {},
   "source": [
    "**This is Our Final DataFrame Looks Like**"
   ]
  },
  {
   "cell_type": "code",
   "execution_count": 19,
   "metadata": {},
   "outputs": [
    {
     "data": {
      "text/html": [
       "<div>\n",
       "<style scoped>\n",
       "    .dataframe tbody tr th:only-of-type {\n",
       "        vertical-align: middle;\n",
       "    }\n",
       "\n",
       "    .dataframe tbody tr th {\n",
       "        vertical-align: top;\n",
       "    }\n",
       "\n",
       "    .dataframe thead th {\n",
       "        text-align: right;\n",
       "    }\n",
       "</style>\n",
       "<table border=\"1\" class=\"dataframe\">\n",
       "  <thead>\n",
       "    <tr style=\"text-align: right;\">\n",
       "      <th></th>\n",
       "      <th>id</th>\n",
       "      <th>name</th>\n",
       "      <th>use</th>\n",
       "      <th>win</th>\n",
       "      <th>ban</th>\n",
       "    </tr>\n",
       "  </thead>\n",
       "  <tbody>\n",
       "    <tr>\n",
       "      <th>0</th>\n",
       "      <td>1</td>\n",
       "      <td>Miya</td>\n",
       "      <td>2.59%</td>\n",
       "      <td>49.59%</td>\n",
       "      <td>0.8%</td>\n",
       "    </tr>\n",
       "    <tr>\n",
       "      <th>1</th>\n",
       "      <td>2</td>\n",
       "      <td>Balmond</td>\n",
       "      <td>1.78%</td>\n",
       "      <td>47.42%</td>\n",
       "      <td>0.62%</td>\n",
       "    </tr>\n",
       "    <tr>\n",
       "      <th>2</th>\n",
       "      <td>3</td>\n",
       "      <td>Saber</td>\n",
       "      <td>1.6%</td>\n",
       "      <td>48.53%</td>\n",
       "      <td>1.27%</td>\n",
       "    </tr>\n",
       "    <tr>\n",
       "      <th>3</th>\n",
       "      <td>4</td>\n",
       "      <td>Alice</td>\n",
       "      <td>0.16%</td>\n",
       "      <td>48.47%</td>\n",
       "      <td>0.09%</td>\n",
       "    </tr>\n",
       "    <tr>\n",
       "      <th>4</th>\n",
       "      <td>5</td>\n",
       "      <td>Nana</td>\n",
       "      <td>3.42%</td>\n",
       "      <td>50.25%</td>\n",
       "      <td>7.63%</td>\n",
       "    </tr>\n",
       "    <tr>\n",
       "      <th>...</th>\n",
       "      <td>...</td>\n",
       "      <td>...</td>\n",
       "      <td>...</td>\n",
       "      <td>...</td>\n",
       "      <td>...</td>\n",
       "    </tr>\n",
       "    <tr>\n",
       "      <th>111</th>\n",
       "      <td>112</td>\n",
       "      <td>Floryn</td>\n",
       "      <td>0.22%</td>\n",
       "      <td>47.51%</td>\n",
       "      <td>0.1%</td>\n",
       "    </tr>\n",
       "    <tr>\n",
       "      <th>112</th>\n",
       "      <td>113</td>\n",
       "      <td>Yin</td>\n",
       "      <td>1.23%</td>\n",
       "      <td>49.76%</td>\n",
       "      <td>44.93%</td>\n",
       "    </tr>\n",
       "    <tr>\n",
       "      <th>113</th>\n",
       "      <td>114</td>\n",
       "      <td>Melissa</td>\n",
       "      <td>0.46%</td>\n",
       "      <td>51.48%</td>\n",
       "      <td>1.2%</td>\n",
       "    </tr>\n",
       "    <tr>\n",
       "      <th>114</th>\n",
       "      <td>115</td>\n",
       "      <td>Xavier</td>\n",
       "      <td>1.27%</td>\n",
       "      <td>55.23%</td>\n",
       "      <td>35.5%</td>\n",
       "    </tr>\n",
       "    <tr>\n",
       "      <th>115</th>\n",
       "      <td>116</td>\n",
       "      <td>Julian</td>\n",
       "      <td>0.94%</td>\n",
       "      <td>52.75%</td>\n",
       "      <td>72.3%</td>\n",
       "    </tr>\n",
       "  </tbody>\n",
       "</table>\n",
       "<p>116 rows × 5 columns</p>\n",
       "</div>"
      ],
      "text/plain": [
       "      id     name    use     win     ban\n",
       "0      1     Miya  2.59%  49.59%    0.8%\n",
       "1      2  Balmond  1.78%  47.42%   0.62%\n",
       "2      3    Saber   1.6%  48.53%   1.27%\n",
       "3      4    Alice  0.16%  48.47%   0.09%\n",
       "4      5     Nana  3.42%  50.25%   7.63%\n",
       "..   ...      ...    ...     ...     ...\n",
       "111  112   Floryn  0.22%  47.51%    0.1%\n",
       "112  113      Yin  1.23%  49.76%  44.93%\n",
       "113  114  Melissa  0.46%  51.48%    1.2%\n",
       "114  115   Xavier  1.27%  55.23%   35.5%\n",
       "115  116   Julian  0.94%  52.75%   72.3%\n",
       "\n",
       "[116 rows x 5 columns]"
      ]
     },
     "execution_count": 19,
     "metadata": {},
     "output_type": "execute_result"
    }
   ],
   "source": [
    "df"
   ]
  }
 ],
 "metadata": {
  "kernelspec": {
   "display_name": "Python 3.9.7 ('condawind')",
   "language": "python",
   "name": "python3"
  },
  "language_info": {
   "codemirror_mode": {
    "name": "ipython",
    "version": 3
   },
   "file_extension": ".py",
   "mimetype": "text/x-python",
   "name": "python",
   "nbconvert_exporter": "python",
   "pygments_lexer": "ipython3",
   "version": "3.9.7"
  },
  "orig_nbformat": 4,
  "vscode": {
   "interpreter": {
    "hash": "8e3802b27887ce9c9a399d18b9e88e87d3bbd2cb82bdf3ac49206f060623ca27"
   }
  }
 },
 "nbformat": 4,
 "nbformat_minor": 2
}
