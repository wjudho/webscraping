{
 "cells": [
  {
   "cell_type": "markdown",
   "metadata": {},
   "source": [
    "# **SCRAPING CNBC INDONESIA YOUTUBE's CHANNEL - USING YOUTUBE APIs v3 SEARCH METHOD**"
   ]
  },
  {
   "cell_type": "code",
   "execution_count": 1,
   "metadata": {},
   "outputs": [],
   "source": [
    "# load libraries\n",
    "import pandas as pd\n",
    "import requests\n",
    "import time\n"
   ]
  },
  {
   "cell_type": "markdown",
   "metadata": {},
   "source": [
    "#### Everything in this code were inspired by: [**strataScratch**](https://www.youtube.com/watch?v=fklHBWow8vE&list=PLv6MQO1ZzdmrizwpS3S9DJBLQut4j1-ei&index=2)\n",
    "**References:**<br>\n",
    "[How to Get channel_ID](https://www.youtube.com/watch?v=D12v4rTtiYM)<br>\n",
    "[How to Get API_KEY and url](https://blog.hubspot.com/website/how-to-get-youtube-api-key)"
   ]
  },
  {
   "cell_type": "code",
   "execution_count": 2,
   "metadata": {},
   "outputs": [],
   "source": [
    "API_KEY = 'xxxx'\n",
    "CHANNEL_ID = 'xxxx'  "
   ]
  },
  {
   "cell_type": "markdown",
   "metadata": {},
   "source": [
    "**References:**<br>\n",
    "[understanding quota cost ](https://developers.google.com/youtube/v3/determine_quota_cost)<br>\n",
    "[youtube default quota allocation is 10k units per day](https://developers.google.com/youtube/v3/guides/quota_and_compliance_audits#:~:text=Projects%20that%20enable%20the%20YouTube,page%20in%20the%20API%20Console.)<br>\n",
    "[youtube parameter common use case](https://developers.google.com/youtube/v3/docs/search/list#common-use-cases)"
   ]
  },
  {
   "cell_type": "code",
   "execution_count": 3,
   "metadata": {},
   "outputs": [
    {
     "data": {
      "text/plain": [
       "{'kind': 'youtube#searchResult',\n",
       " 'etag': 'lIEpHhqmPuDKezSe-_Z1vFkmPFo',\n",
       " 'id': {'kind': 'youtube#video', 'videoId': 'uUM9xk0f7xI'},\n",
       " 'snippet': {'publishedAt': '2022-07-09T06:15:01Z',\n",
       "  'channelId': 'UCGN9JsnkvK05v2lnTI_-uGA',\n",
       "  'title': 'Langkah Kemensos Antisipasi Aksi Badan Amal &quot;Nakal&quot;',\n",
       "  'description': 'Berita Lainnya: Siapa Chris Pincher, Buat Pemerintah Inggris Gonjang-ganjing? Link: https://bit.ly/3RiKr5x Pengelolaan dana ...',\n",
       "  'thumbnails': {'default': {'url': 'https://i.ytimg.com/vi/uUM9xk0f7xI/default.jpg',\n",
       "    'width': 120,\n",
       "    'height': 90},\n",
       "   'medium': {'url': 'https://i.ytimg.com/vi/uUM9xk0f7xI/mqdefault.jpg',\n",
       "    'width': 320,\n",
       "    'height': 180},\n",
       "   'high': {'url': 'https://i.ytimg.com/vi/uUM9xk0f7xI/hqdefault.jpg',\n",
       "    'width': 480,\n",
       "    'height': 360}},\n",
       "  'channelTitle': 'CNBC Indonesia',\n",
       "  'liveBroadcastContent': 'none',\n",
       "  'publishTime': '2022-07-09T06:15:01Z'}}"
      ]
     },
     "execution_count": 3,
     "metadata": {},
     "output_type": "execute_result"
    }
   ],
   "source": [
    "# for some unknown reason adding '+..+' works, reading documentation isn't much of a help \n",
    "url = 'https://youtube.googleapis.com/youtube/v3/search?key='+API_KEY+'&channelId='+CHANNEL_ID+'&part=snippet,id&order=date&maxResults=40'\n",
    "response = requests.get(url).json()\n",
    "# i put [0] to show only the first video data\n",
    "response['items'][0]"
   ]
  },
  {
   "cell_type": "markdown",
   "metadata": {},
   "source": [
    "<p align=\"center\">\n",
    "<img width=\"992\" height=\"448\" src=\"https://raw.githubusercontent.com/wjudho/wjudho/main/images/cnbc.png\">\n",
    "</p>\n",
    "\n",
    "### **1. Let's Break it Down! Where Our Data is Located**\n",
    "**References:**<br>\n",
    "[access keys(), items() and values() in Python Dictionary](https://www.pythontutorial.net/python-basics/python-dictionary/)"
   ]
  },
  {
   "cell_type": "code",
   "execution_count": 4,
   "metadata": {},
   "outputs": [
    {
     "name": "stdout",
     "output_type": "stream",
     "text": [
      "6\n"
     ]
    },
    {
     "data": {
      "text/plain": [
       "dict_keys(['kind', 'etag', 'nextPageToken', 'regionCode', 'pageInfo', 'items'])"
      ]
     },
     "execution_count": 4,
     "metadata": {},
     "output_type": "execute_result"
    }
   ],
   "source": [
    "# there are 6 elements (dict_keys)\n",
    "print(len(response))\n",
    "response.keys()"
   ]
  },
  {
   "cell_type": "markdown",
   "metadata": {},
   "source": [
    "<p align=\"center\">\n",
    "<img width=\"538\" height=\"251\" src=\"https://raw.githubusercontent.com/wjudho/wjudho/main/images/json.png\">\n",
    "</p>\n",
    "\n",
    "**References:**<br>\n",
    "[what does [0] do](https://stackoverflow.com/questions/12521189/what-does-0-mean-in-python)"
   ]
  },
  {
   "cell_type": "code",
   "execution_count": 5,
   "metadata": {},
   "outputs": [
    {
     "name": "stdout",
     "output_type": "stream",
     "text": [
      "4\n"
     ]
    },
    {
     "data": {
      "text/plain": [
       "dict_keys(['kind', 'etag', 'id', 'snippet'])"
      ]
     },
     "execution_count": 5,
     "metadata": {},
     "output_type": "execute_result"
    }
   ],
   "source": [
    "# there are 4 elements inside ['items'] keys. \n",
    "# to simplify let's just work on just 1 videos (4 elements) for now using [0]\n",
    "print(len(response['items'][0]))\n",
    "response['items'][0].keys()"
   ]
  },
  {
   "cell_type": "markdown",
   "metadata": {},
   "source": [
    "<p align=\"center\">\n",
    "<img width=\"538\" height=\"251\" src=\"https://raw.githubusercontent.com/wjudho/wjudho/main/images/json2.png\">\n",
    "</p>"
   ]
  },
  {
   "cell_type": "code",
   "execution_count": 6,
   "metadata": {},
   "outputs": [
    {
     "name": "stdout",
     "output_type": "stream",
     "text": [
      "8\n"
     ]
    },
    {
     "data": {
      "text/plain": [
       "dict_keys(['publishedAt', 'channelId', 'title', 'description', 'thumbnails', 'channelTitle', 'liveBroadcastContent', 'publishTime'])"
      ]
     },
     "execution_count": 6,
     "metadata": {},
     "output_type": "execute_result"
    }
   ],
   "source": [
    "# there are 8 elements inside ['snippet']\n",
    "# this is where most of the data reside\n",
    "print(len(response['items'][0]['snippet']))\n",
    "response['items'][0]['snippet'].keys()"
   ]
  },
  {
   "cell_type": "code",
   "execution_count": 7,
   "metadata": {},
   "outputs": [
    {
     "name": "stdout",
     "output_type": "stream",
     "text": [
      "2\n"
     ]
    },
    {
     "data": {
      "text/plain": [
       "dict_keys(['kind', 'videoId'])"
      ]
     },
     "execution_count": 7,
     "metadata": {},
     "output_type": "execute_result"
    }
   ],
   "source": [
    "# there are 2 elements inside ['id']\n",
    "print(len(response['items'][0]['id']))\n",
    "response['items'][0]['id'].keys()"
   ]
  },
  {
   "cell_type": "markdown",
   "metadata": {},
   "source": [
    "<p align=\"center\">\n",
    "<img width=\"420\" height=\"343\" src=\"https://raw.githubusercontent.com/wjudho/wjudho/main/images/json4.png\">\n",
    "</p>"
   ]
  },
  {
   "cell_type": "markdown",
   "metadata": {},
   "source": [
    "### **2. Let's Grab Only Data We Need into Variable Each**"
   ]
  },
  {
   "cell_type": "code",
   "execution_count": 8,
   "metadata": {},
   "outputs": [],
   "source": [
    "video_id = response['items'][0]['id']['videoId']\n",
    "video_title = response['items'][0]['snippet']['title']\n",
    "# let's change it into string, to prevent unintentionally changed\n",
    "video_title = str(video_title).replace(\"&amp;\", \"\")\n",
    "upload_date = response['items'][0]['snippet']['publishedAt']\n",
    "upload_date = str(upload_date).split('T')[0]\n",
    "# this conclude our first data from `search method` (remember still and only 1 videos which include 4 elements inside)"
   ]
  },
  {
   "cell_type": "markdown",
   "metadata": {},
   "source": [
    "<p align=\"center\">\n",
    "<img width=\"401\" height=\"121\" src=\"https://raw.githubusercontent.com/wjudho/wjudho/main/images/syntax.png\"><br>\n",
    "i hope this could explain the <strong>[0]</strong> or <strong>[1]</strong> part \n",
    "</p>\n",
    "\n",
    "**References:**<br>\n",
    "[understanding lists in python](https://www.digitalocean.com/community/tutorials/understanding-lists-in-python-)"
   ]
  },
  {
   "cell_type": "markdown",
   "metadata": {},
   "source": [
    "### **3. Adding ViewCount, and LikeCount**\n",
    "\n",
    "- to add more details like **ViewCount** and **LikeCount**, we need to use another method which is **videos Method**<br>\n",
    "- this step will be added inside the looping<br>\n",
    "**References:**<br>\n",
    "[statistics](https://developers.google.com/youtube/v3/docs/videos#resource-representation)<br>\n",
    "[list method](https://developers.google.com/youtube/v3/docs/videos/list)<br>\n",
    "[quota cost](https://developers.google.com/youtube/v3/determine_quota_cost)"
   ]
  },
  {
   "cell_type": "markdown",
   "metadata": {},
   "source": [
    "### **4. Putting All Together Into A DataFrame**\n",
    "\n",
    "<p align=\"center\">\n",
    "<img width=\"420\" height=\"343\" src=\"https://raw.githubusercontent.com/wjudho/wjudho/main/images/json4.png\"><br>\n",
    "<img width=\"417\" height=\"81\" src=\"https://raw.githubusercontent.com/wjudho/wjudho/main/images/[0].png\">\n",
    "<img width=\"417\" height=\"81\" src=\"https://raw.githubusercontent.com/wjudho/wjudho/main/images/[all].png\"><br>\n",
    "\n",
    "</p>"
   ]
  },
  {
   "cell_type": "code",
   "execution_count": 10,
   "metadata": {},
   "outputs": [],
   "source": [
    "# create empty dataframe, later we are going to put collected data into this empty dataFrame\n",
    "df = pd.DataFrame(columns=['video_id', 'video_title', 'upload_date', 'view_count', 'like_count', 'comment_count'])"
   ]
  },
  {
   "cell_type": "code",
   "execution_count": 11,
   "metadata": {},
   "outputs": [
    {
     "data": {
      "text/html": [
       "<div>\n",
       "<style scoped>\n",
       "    .dataframe tbody tr th:only-of-type {\n",
       "        vertical-align: middle;\n",
       "    }\n",
       "\n",
       "    .dataframe tbody tr th {\n",
       "        vertical-align: top;\n",
       "    }\n",
       "\n",
       "    .dataframe thead th {\n",
       "        text-align: right;\n",
       "    }\n",
       "</style>\n",
       "<table border=\"1\" class=\"dataframe\">\n",
       "  <thead>\n",
       "    <tr style=\"text-align: right;\">\n",
       "      <th></th>\n",
       "      <th>video_id</th>\n",
       "      <th>video_title</th>\n",
       "      <th>upload_date</th>\n",
       "      <th>view_count</th>\n",
       "      <th>like_count</th>\n",
       "      <th>comment_count</th>\n",
       "    </tr>\n",
       "  </thead>\n",
       "  <tbody>\n",
       "    <tr>\n",
       "      <th>0</th>\n",
       "      <td>uUM9xk0f7xI</td>\n",
       "      <td>Langkah Kemensos Antisipasi Aksi Badan Amal &amp;q...</td>\n",
       "      <td>2022-07-09</td>\n",
       "      <td>159</td>\n",
       "      <td>10</td>\n",
       "      <td>1</td>\n",
       "    </tr>\n",
       "    <tr>\n",
       "      <th>1</th>\n",
       "      <td>sQTzAFnDkqI</td>\n",
       "      <td>Pengusaha: Petani Sawit Menderita, Terpaksa Ju...</td>\n",
       "      <td>2022-07-09</td>\n",
       "      <td>878</td>\n",
       "      <td>49</td>\n",
       "      <td>27</td>\n",
       "    </tr>\n",
       "    <tr>\n",
       "      <th>2</th>\n",
       "      <td>xnldby0FcZ0</td>\n",
       "      <td>Presidensi G20 Indonesia, Recover Together, Re...</td>\n",
       "      <td>2022-07-08</td>\n",
       "      <td>5178</td>\n",
       "      <td>95</td>\n",
       "      <td>25</td>\n",
       "    </tr>\n",
       "    <tr>\n",
       "      <th>3</th>\n",
       "      <td>keb0JkOsZv0</td>\n",
       "      <td>Pungli! Pejabat BPN Cimahi Terancam Dipecat</td>\n",
       "      <td>2022-07-08</td>\n",
       "      <td>4110</td>\n",
       "      <td>88</td>\n",
       "      <td>60</td>\n",
       "    </tr>\n",
       "    <tr>\n",
       "      <th>4</th>\n",
       "      <td>DT2zxetUjsw</td>\n",
       "      <td>Waspada! Harga Terigu Mie Instan Naik</td>\n",
       "      <td>2022-07-08</td>\n",
       "      <td>4473</td>\n",
       "      <td>80</td>\n",
       "      <td>40</td>\n",
       "    </tr>\n",
       "  </tbody>\n",
       "</table>\n",
       "</div>"
      ],
      "text/plain": [
       "      video_id                                        video_title upload_date  \\\n",
       "0  uUM9xk0f7xI  Langkah Kemensos Antisipasi Aksi Badan Amal &q...  2022-07-09   \n",
       "1  sQTzAFnDkqI  Pengusaha: Petani Sawit Menderita, Terpaksa Ju...  2022-07-09   \n",
       "2  xnldby0FcZ0  Presidensi G20 Indonesia, Recover Together, Re...  2022-07-08   \n",
       "3  keb0JkOsZv0        Pungli! Pejabat BPN Cimahi Terancam Dipecat  2022-07-08   \n",
       "4  DT2zxetUjsw              Waspada! Harga Terigu Mie Instan Naik  2022-07-08   \n",
       "\n",
       "  view_count like_count comment_count  \n",
       "0        159         10             1  \n",
       "1        878         49            27  \n",
       "2       5178         95            25  \n",
       "3       4110         88            60  \n",
       "4       4473         80            40  "
      ]
     },
     "execution_count": 11,
     "metadata": {},
     "output_type": "execute_result"
    }
   ],
   "source": [
    "# in this loop, we locked everything using 'youtube#video' to prevent unintended loop. just to make sure we are grabing the data that we want\n",
    "# this loop specific task is to collect all of videos\n",
    "\n",
    "for i in response['items']:\n",
    "    if i['id']['kind'] == 'youtube#video':\n",
    "        video_id = i['id']['videoId']\n",
    "        video_title = i['snippet']['title']\n",
    "        video_title = str(video_title).replace(\"&amp;\", \"\")\n",
    "        upload_date = i['snippet']['publishedAt']\n",
    "        upload_date = str(upload_date).split('T')[0]\n",
    "   \n",
    "        # add these into the loop (this is step 3)\n",
    "        url_video_stats = 'https://youtube.googleapis.com/youtube/v3/videos?id='+video_id+'&part=statistics&key='+API_KEY\n",
    "        response_video_stats = requests.get(url_video_stats).json()\n",
    "\n",
    "        view_count = response_video_stats['items'][0]['statistics']['viewCount']\n",
    "        like_count = response_video_stats['items'][0]['statistics']['likeCount']\n",
    "        comment_count = response_video_stats['items'][0]['statistics']['commentCount']\n",
    "\n",
    "        #uncomment these to test whether our loop worked or not\n",
    "        #print(video_id)\n",
    "        #print(video_title)\n",
    "        #print(upload_date)\n",
    "        #print(view_count)\n",
    "        #print(like_count)\n",
    "        #print(comment_count)\n",
    "\n",
    "        # save all those collected data into DataFrame\n",
    "        df = pd.concat([df, pd.DataFrame.from_records([{'video_id':video_id,'video_title':video_title,\n",
    "                        'upload_date':upload_date,'view_count':view_count,\n",
    "                        'like_count':like_count,'comment_count':comment_count}])], ignore_index=True)\n",
    "\n",
    "df.head()"
   ]
  },
  {
   "cell_type": "code",
   "execution_count": 12,
   "metadata": {
    "tags": []
   },
   "outputs": [],
   "source": [
    "df.to_csv(r'C:\\Users\\wis\\Documents\\GitHub\\webscraping\\youtube\\cnbc.csv', index=False)"
   ]
  }
 ],
 "metadata": {
  "kernelspec": {
   "display_name": "Python 3 (ipykernel)",
   "language": "python",
   "name": "python3"
  },
  "language_info": {
   "codemirror_mode": {
    "name": "ipython",
    "version": 3
   },
   "file_extension": ".py",
   "mimetype": "text/x-python",
   "name": "python",
   "nbconvert_exporter": "python",
   "pygments_lexer": "ipython3",
   "version": "3.9.7"
  },
  "vscode": {
   "interpreter": {
    "hash": "8e3802b27887ce9c9a399d18b9e88e87d3bbd2cb82bdf3ac49206f060623ca27"
   }
  }
 },
 "nbformat": 4,
 "nbformat_minor": 4
}
